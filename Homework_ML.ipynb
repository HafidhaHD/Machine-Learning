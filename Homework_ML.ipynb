{
  "nbformat": 4,
  "nbformat_minor": 0,
  "metadata": {
    "colab": {
      "provenance": []
    },
    "kernelspec": {
      "name": "python3",
      "display_name": "Python 3"
    },
    "language_info": {
      "name": "python"
    }
  },
  "cells": [
    {
      "cell_type": "code",
      "source": [
        "import time\n",
        "import pickle\n",
        "import pandas as pd\n",
        "import numpy as np\n",
        "from sklearn.model_selection import train_test_split\n",
        "from sklearn.preprocessing import StandardScaler\n",
        "from sklearn.ensemble import RandomForestClassifier\n",
        "from sklearn.metrics import classification_report, confusion_matrix, accuracy_score\n"
      ],
      "metadata": {
        "id": "UlrvkYKf3Mc5"
      },
      "execution_count": 54,
      "outputs": []
    },
    {
      "cell_type": "code",
      "source": [
        "# Load Data\n",
        "data = pd.read_csv('Prediction Insurance.csv')\n",
        "print(data.head())  # Memeriksa beberapa baris pertama dari data\n"
      ],
      "metadata": {
        "colab": {
          "base_uri": "https://localhost:8080/"
        },
        "id": "hU497-Zi3PRf",
        "outputId": "688b9fb4-f779-42aa-dd76-f47bac07d0f2"
      },
      "execution_count": 55,
      "outputs": [
        {
          "output_type": "stream",
          "name": "stdout",
          "text": [
            "   id  Gender  Age  Driving_License  Region_Code  Previously_Insured  \\\n",
            "0   1    Male   44                1           28                   0   \n",
            "1   2    Male   76                1            3                   0   \n",
            "2   3    Male   47                1           28                   0   \n",
            "3   4    Male   21                1           11                   1   \n",
            "4   5  Female   29                1           41                   1   \n",
            "\n",
            "  Vehicle_Age Vehicle_Damage  Annual_Premium  Policy_Sales_Channel  Vintage  \\\n",
            "0   > 2 Years            Yes           40454                    26      217   \n",
            "1    1-2 Year             No           33536                    26      183   \n",
            "2   > 2 Years            Yes           38294                    26       27   \n",
            "3    < 1 Year             No           28619                   152      203   \n",
            "4    < 1 Year             No           27496                   152       39   \n",
            "\n",
            "   Response  \n",
            "0         1  \n",
            "1         0  \n",
            "2         1  \n",
            "3         0  \n",
            "4         0  \n"
          ]
        }
      ]
    },
    {
      "cell_type": "code",
      "source": [
        "# Data Preprocessing\n",
        "data = pd.get_dummies(data, columns=['Gender', 'Vehicle_Age', 'Vehicle_Damage'], drop_first=True)\n",
        "print(data.head())  # Memeriksa hasil preprocessing\n",
        "\n",
        "# Define features and target\n",
        "X = data.drop(['id', 'Response'], axis=1)\n",
        "y = data['Response']\n",
        "print(X.head())  # Memeriksa fitur\n",
        "print(y.head())  # Memeriksa target\n"
      ],
      "metadata": {
        "colab": {
          "base_uri": "https://localhost:8080/"
        },
        "id": "tK7Jwww63Rlv",
        "outputId": "922ab8ab-ba3f-4c16-9ebb-85e32bcf4505"
      },
      "execution_count": 56,
      "outputs": [
        {
          "output_type": "stream",
          "name": "stdout",
          "text": [
            "   id  Age  Driving_License  Region_Code  Previously_Insured  Annual_Premium  \\\n",
            "0   1   44                1           28                   0           40454   \n",
            "1   2   76                1            3                   0           33536   \n",
            "2   3   47                1           28                   0           38294   \n",
            "3   4   21                1           11                   1           28619   \n",
            "4   5   29                1           41                   1           27496   \n",
            "\n",
            "   Policy_Sales_Channel  Vintage  Response  Gender_Male  Vehicle_Age_< 1 Year  \\\n",
            "0                    26      217         1         True                 False   \n",
            "1                    26      183         0         True                 False   \n",
            "2                    26       27         1         True                 False   \n",
            "3                   152      203         0         True                  True   \n",
            "4                   152       39         0        False                  True   \n",
            "\n",
            "   Vehicle_Age_> 2 Years  Vehicle_Damage_Yes  \n",
            "0                   True                True  \n",
            "1                  False               False  \n",
            "2                   True                True  \n",
            "3                  False               False  \n",
            "4                  False               False  \n",
            "   Age  Driving_License  Region_Code  Previously_Insured  Annual_Premium  \\\n",
            "0   44                1           28                   0           40454   \n",
            "1   76                1            3                   0           33536   \n",
            "2   47                1           28                   0           38294   \n",
            "3   21                1           11                   1           28619   \n",
            "4   29                1           41                   1           27496   \n",
            "\n",
            "   Policy_Sales_Channel  Vintage  Gender_Male  Vehicle_Age_< 1 Year  \\\n",
            "0                    26      217         True                 False   \n",
            "1                    26      183         True                 False   \n",
            "2                    26       27         True                 False   \n",
            "3                   152      203         True                  True   \n",
            "4                   152       39        False                  True   \n",
            "\n",
            "   Vehicle_Age_> 2 Years  Vehicle_Damage_Yes  \n",
            "0                   True                True  \n",
            "1                  False               False  \n",
            "2                   True                True  \n",
            "3                  False               False  \n",
            "4                  False               False  \n",
            "0    1\n",
            "1    0\n",
            "2    1\n",
            "3    0\n",
            "4    0\n",
            "Name: Response, dtype: int64\n"
          ]
        }
      ]
    },
    {
      "cell_type": "code",
      "source": [
        "# Split the data into training and testing sets\n",
        "X_train, X_test, y_train, y_test = train_test_split(X, y, test_size=0.2, random_state=42)\n",
        "print(X_train.shape, X_test.shape, y_train.shape, y_test.shape)  # Memeriksa ukuran data latih dan uji\n"
      ],
      "metadata": {
        "colab": {
          "base_uri": "https://localhost:8080/"
        },
        "id": "b9stQVGF3VLd",
        "outputId": "77a4f5e1-7f48-4f27-8d49-21ce096227c5"
      },
      "execution_count": 57,
      "outputs": [
        {
          "output_type": "stream",
          "name": "stdout",
          "text": [
            "(304887, 11) (76222, 11) (304887,) (76222,)\n"
          ]
        }
      ]
    },
    {
      "cell_type": "code",
      "source": [
        "# Standardize the features\n",
        "scaler = StandardScaler()\n",
        "X_train = scaler.fit_transform(X_train)\n",
        "X_test = scaler.transform(X_test)\n",
        "print(X_train[:5])  # Memeriksa hasil standarisasi pada data latih\n",
        "print(X_test[:5])   # Memeriksa hasil standarisasi pada data uji\n"
      ],
      "metadata": {
        "colab": {
          "base_uri": "https://localhost:8080/"
        },
        "id": "ho2GiMMY3YF3",
        "outputId": "793fed1d-e800-4876-9846-704e5ae27e91"
      },
      "execution_count": 58,
      "outputs": [
        {
          "output_type": "stream",
          "name": "stdout",
          "text": [
            "[[ 0.01060114  0.04664784 -0.86346971 -0.91993989  1.29441692 -1.05046307\n",
            "   0.86950541 -1.0847756  -0.87180455 -0.20979889  0.99025045]\n",
            " [-0.05387549  0.04664784 -1.16608742 -0.91993989 -0.4366383  -1.58522262\n",
            "  -1.49771923  0.92184964 -0.87180455 -0.20979889  0.99025045]\n",
            " [-1.0855015   0.04664784  0.27134671  1.08702755  0.85464034  0.73821545\n",
            "   0.14020893  0.92184964  1.14704608 -0.20979889 -1.00984554]\n",
            " [-1.02102488  0.04664784  1.10354541  1.08702755 -0.08344925  0.71977547\n",
            "   1.46728941 -1.0847756   1.14704608 -0.20979889 -1.00984554]\n",
            " [ 1.10670378  0.04664784  1.6331264  -0.91993989 -1.61942171  0.77509542\n",
            "   0.00869645  0.92184964 -0.87180455  4.76646949  0.99025045]]\n",
            "[[-1.14997813  0.04664784 -1.77132284  1.08702755 -0.58906482  0.88573533\n",
            "  -0.98362499 -1.0847756   1.14704608 -0.20979889 -1.00984554]\n",
            " [ 1.04222715  0.04664784 -0.86346971 -0.91993989  0.40141777 -1.58522262\n",
            "  -0.62495459  0.92184964 -0.87180455 -0.20979889  0.99025045]\n",
            " [ 0.13955439  0.04664784 -1.77132284 -0.91993989 -1.61942171 -1.58522262\n",
            "  -0.76842275 -1.0847756  -0.87180455 -0.20979889  0.99025045]\n",
            " [-0.827595    0.04664784 -1.16608742 -0.91993989 -1.61942171  0.71977547\n",
            "   1.35968829 -1.0847756   1.14704608 -0.20979889 -1.00984554]\n",
            " [ 0.78432065  0.04664784  1.02789098 -0.91993989  0.19903244  0.22189588\n",
            "   1.32382125  0.92184964 -0.87180455 -0.20979889  0.99025045]]\n"
          ]
        }
      ]
    },
    {
      "cell_type": "code",
      "source": [
        "# Model Training\n",
        "start = time.time()\n",
        "model = RandomForestClassifier(n_estimators=100, random_state=42)\n",
        "model.fit(X_train, y_train)\n",
        "stop = time.time()\n",
        "\n",
        "print(f\"Training Time: {stop - start} seconds\")\n"
      ],
      "metadata": {
        "colab": {
          "base_uri": "https://localhost:8080/"
        },
        "id": "RVaxKD5j3abY",
        "outputId": "9042fabb-8207-4db7-9cac-1985960e9ee7"
      },
      "execution_count": 59,
      "outputs": [
        {
          "output_type": "stream",
          "name": "stdout",
          "text": [
            "Training Time: 56.729031562805176 seconds\n"
          ]
        }
      ]
    },
    {
      "cell_type": "code",
      "source": [
        "# Save Model\n",
        "model_filename = 'insurance_model.pkl'\n",
        "with open(model_filename, 'wb') as file:\n",
        "    pickle.dump(model, file)\n",
        "print(f\"Model saved to {model_filename}\")\n"
      ],
      "metadata": {
        "colab": {
          "base_uri": "https://localhost:8080/"
        },
        "id": "rn6Zgquk3flH",
        "outputId": "a191a98e-5557-4806-fee0-2c492e22f19d"
      },
      "execution_count": 60,
      "outputs": [
        {
          "output_type": "stream",
          "name": "stdout",
          "text": [
            "Model saved to insurance_model.pkl\n"
          ]
        }
      ]
    },
    {
      "cell_type": "code",
      "source": [
        "# Model Evaluation\n",
        "y_pred = model.predict(X_test)\n",
        "conf_matrix = confusion_matrix(y_test, y_pred)\n",
        "class_report = classification_report(y_test, y_pred)\n",
        "accuracy = accuracy_score(y_test, y_pred)\n",
        "\n",
        "print(\"Confusion Matrix:\\n\", conf_matrix)\n",
        "print(\"\\nClassification Report:\\n\", class_report)\n",
        "print(\"\\nAccuracy:\", accuracy)\n"
      ],
      "metadata": {
        "colab": {
          "base_uri": "https://localhost:8080/"
        },
        "id": "3DMmGuws3iPM",
        "outputId": "da4f8d71-17e8-4342-9c6e-c2bfa8bb7666"
      },
      "execution_count": 61,
      "outputs": [
        {
          "output_type": "stream",
          "name": "stdout",
          "text": [
            "Confusion Matrix:\n",
            " [[64790  1909]\n",
            " [ 8376  1147]]\n",
            "\n",
            "Classification Report:\n",
            "               precision    recall  f1-score   support\n",
            "\n",
            "           0       0.89      0.97      0.93     66699\n",
            "           1       0.38      0.12      0.18      9523\n",
            "\n",
            "    accuracy                           0.87     76222\n",
            "   macro avg       0.63      0.55      0.55     76222\n",
            "weighted avg       0.82      0.87      0.83     76222\n",
            "\n",
            "\n",
            "Accuracy: 0.8650652042717326\n"
          ]
        }
      ]
    },
    {
      "cell_type": "code",
      "source": [
        "# Example predictions\n",
        "example_data = pd.DataFrame(X_test[:5], columns=X.columns)\n",
        "example_predictions = model.predict(example_data)\n",
        "\n",
        "example_data['Predicted_Response'] = example_predictions\n",
        "print(example_data)\n"
      ],
      "metadata": {
        "colab": {
          "base_uri": "https://localhost:8080/"
        },
        "id": "PODkICgA3lIG",
        "outputId": "bcd7bd7b-0aea-4469-8a70-fe3073cb2e90"
      },
      "execution_count": 62,
      "outputs": [
        {
          "output_type": "stream",
          "name": "stdout",
          "text": [
            "        Age  Driving_License  Region_Code  Previously_Insured  Annual_Premium  \\\n",
            "0 -1.149978         0.046648    -1.771323            1.087028       -0.589065   \n",
            "1  1.042227         0.046648    -0.863470           -0.919940        0.401418   \n",
            "2  0.139554         0.046648    -1.771323           -0.919940       -1.619422   \n",
            "3 -0.827595         0.046648    -1.166087           -0.919940       -1.619422   \n",
            "4  0.784321         0.046648     1.027891           -0.919940        0.199032   \n",
            "\n",
            "   Policy_Sales_Channel   Vintage  Gender_Male  Vehicle_Age_< 1 Year  \\\n",
            "0              0.885735 -0.983625    -1.084776              1.147046   \n",
            "1             -1.585223 -0.624955     0.921850             -0.871805   \n",
            "2             -1.585223 -0.768423    -1.084776             -0.871805   \n",
            "3              0.719775  1.359688    -1.084776              1.147046   \n",
            "4              0.221896  1.323821     0.921850             -0.871805   \n",
            "\n",
            "   Vehicle_Age_> 2 Years  Vehicle_Damage_Yes  Predicted_Response  \n",
            "0              -0.209799           -1.009846                   0  \n",
            "1              -0.209799            0.990250                   0  \n",
            "2              -0.209799            0.990250                   1  \n",
            "3              -0.209799           -1.009846                   0  \n",
            "4              -0.209799            0.990250                   0  \n"
          ]
        },
        {
          "output_type": "stream",
          "name": "stderr",
          "text": [
            "/usr/local/lib/python3.10/dist-packages/sklearn/base.py:432: UserWarning: X has feature names, but RandomForestClassifier was fitted without feature names\n",
            "  warnings.warn(\n"
          ]
        }
      ]
    }
  ]
}